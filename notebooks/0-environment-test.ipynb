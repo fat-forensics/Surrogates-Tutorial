{
 "cells": [
  {
   "cell_type": "markdown",
   "metadata": {},
   "source": [
    "ECML-PKDD 2020 Hands-on Tutorial\n",
    "\n",
    "*What and How of Machine Learning Transparency*:  \n",
    "Building Bespoke Explainability Tools with Interoperable Algorithmic Components\n",
    "\n",
    "<https://events.fat-forensics.org/2020_ecml-pkdd/>\n",
    "\n",
    "Authors: Kacper Sokol <k.sokol@bristol.ac.uk> and\n",
    "         Alex Hepburn <ah13558@bristol.ac.uk>  \n",
    "Licence:\n",
    "[![Text Licence](https://img.shields.io/badge/licence--text-CC%20BY--NC--SA%204.0-red)](https://github.com/fat-forensics/Surrogates-Tutorial/blob/master/LICENCE)\n",
    "[![Code Licence](https://img.shields.io/badge/licence--code-new%20BSD-red)](https://github.com/fat-forensics/Surrogates-Tutorial/blob/master/LICENCE-code)\n",
    "\n",
    "---\n",
    "\n",
    "---\n",
    "\n",
    "---\n",
    "\n",
    "[![Open In Colab](https://colab.research.google.com/assets/colab-badge.svg)](https://colab.research.google.com/github/fat-forensics/Surrogates-Tutorial/blob/master/notebooks/0-environment-test.ipynb)\n",
    "[![Open in Binder](https://mybinder.org/badge_logo.svg)](https://mybinder.org/v2/gh/fat-forensics/Surrogates-Tutorial/master?filepath=notebooks%2F0-environment-test.ipynb)"
   ]
  },
  {
   "cell_type": "markdown",
   "metadata": {
    "colab_type": "text",
    "id": "cvDQyORYqvA7"
   },
   "source": [
    "First, we need to set up the environment."
   ]
  },
  {
   "cell_type": "code",
   "execution_count": 1,
   "metadata": {
    "colab": {},
    "colab_type": "code",
    "executionInfo": {
     "elapsed": 1182,
     "status": "ok",
     "timestamp": 1598544373228,
     "user": {
      "displayName": "Kacper Sokol",
      "photoUrl": "",
      "userId": "08424478775456813676"
     },
     "user_tz": -60
    },
    "id": "jk1VoEOrq0S5"
   },
   "outputs": [],
   "source": [
    "%load_ext autoreload\n",
    "%autoreload 2"
   ]
  },
  {
   "cell_type": "code",
   "execution_count": 2,
   "metadata": {
    "colab": {
     "base_uri": "https://localhost:8080/",
     "height": 384
    },
    "colab_type": "code",
    "executionInfo": {
     "elapsed": 1615,
     "status": "ok",
     "timestamp": 1598544395797,
     "user": {
      "displayName": "Kacper Sokol",
      "photoUrl": "",
      "userId": "08424478775456813676"
     },
     "user_tz": -60
    },
    "id": "-7aYZ1OF9XZi",
    "outputId": "5f11f143-1b59-4665-a86e-05f19b8e281e"
   },
   "outputs": [],
   "source": [
    "LIBRARY_URL = ('https://raw.githubusercontent.com/fat-forensics/'\n",
    "               'Surrogates-Tutorial/master/notebooks/fatf_ecml.py')\n",
    "\n",
    "try:\n",
    "    import google.colab\n",
    "    !wget $LIBRARY_URL -O fatf_ecml.py\n",
    "except ImportError:\n",
    "    pass\n",
    "\n",
    "import fatf_ecml\n",
    "\n",
    "import matplotlib.pyplot as plt\n",
    "import numpy as np\n",
    "\n",
    "from IPython.display import display\n",
    "\n",
    "%matplotlib inline"
   ]
  },
  {
   "cell_type": "code",
   "execution_count": 3,
   "metadata": {
    "colab": {
     "base_uri": "https://localhost:8080/",
     "height": 315
    },
    "colab_type": "code",
    "executionInfo": {
     "elapsed": 3990,
     "status": "ok",
     "timestamp": 1598544436540,
     "user": {
      "displayName": "Kacper Sokol",
      "photoUrl": "",
      "userId": "08424478775456813676"
     },
     "user_tz": -60
    },
    "id": "tJ7mg3JEqtVq",
    "outputId": "4e89d8c8-c44d-49f7-a0d5-fc6d8f7d53a3"
   },
   "outputs": [
    {
     "name": "stdout",
     "output_type": "stream",
     "text": [
      "Not in Colab; nothing to do.\n"
     ]
    }
   ],
   "source": [
    "fatf_ecml.initialise_colab()"
   ]
  },
  {
   "cell_type": "markdown",
   "metadata": {
    "colab_type": "text",
    "id": "rTy-jSS1rMzS"
   },
   "source": [
    "# Testing the Tutorial Environment #\n",
    "This notebook is a pruned version of\n",
    "\"[how to build LIME yourself](https://fat-forensics.org/how_to/transparency/tabular-surrogates.html)\"\n",
    "*How-To Guide* taken from the FAT Forensics\n",
    "[documentation](https://fat-forensics.org/).\n",
    "\n",
    "Regardless of whether you are using *Colab*, *Binder* or running the tutorial\n",
    "materials directly on your personal computer, you should execute this notebook\n",
    "to check whether everything functions correctly.\n",
    "\n",
    "We will discuss all of these steps in more detail during the hands-on session\n",
    "in Part 3 of the tutorial.\n",
    "\n",
    "> **For now, you do not need to worry about the meaning of any of these.**\n",
    "  **Just make sure it runs.**\n"
   ]
  },
  {
   "cell_type": "markdown",
   "metadata": {
    "colab_type": "text",
    "id": "gkz_35Fjtuhu"
   },
   "source": [
    "First, let's set up required packages and fix the random seed for\n",
    "reproducibility."
   ]
  },
  {
   "cell_type": "code",
   "execution_count": 4,
   "metadata": {
    "colab": {
     "base_uri": "https://localhost:8080/",
     "height": 35
    },
    "colab_type": "code",
    "executionInfo": {
     "elapsed": 723,
     "status": "ok",
     "timestamp": 1598545110885,
     "user": {
      "displayName": "Kacper Sokol",
      "photoUrl": "",
      "userId": "08424478775456813676"
     },
     "user_tz": -60
    },
    "id": "8_ZxY-QmqtcX",
    "outputId": "e82463f5-9bbf-4e3b-8f8f-1b98eade1ca8"
   },
   "outputs": [],
   "source": [
    "import fatf\n",
    "\n",
    "import numpy as np"
   ]
  },
  {
   "cell_type": "code",
   "execution_count": 5,
   "metadata": {
    "colab": {
     "base_uri": "https://localhost:8080/",
     "height": 52
    },
    "colab_type": "code",
    "executionInfo": {
     "elapsed": 606,
     "status": "ok",
     "timestamp": 1598545123602,
     "user": {
      "displayName": "Kacper Sokol",
      "photoUrl": "",
      "userId": "08424478775456813676"
     },
     "user_tz": -60
    },
    "id": "ByR0A__W9vl8",
    "outputId": "e587e4fd-bcdf-4be1-d98d-6bed11dce737"
   },
   "outputs": [
    {
     "name": "stderr",
     "output_type": "stream",
     "text": [
      "22-Sep-08 12:45:08 fatf         INFO     Seeding RNGs using the input parameter.\n",
      "22-Sep-08 12:45:08 fatf         INFO     Seeding RNGs with 42.\n"
     ]
    }
   ],
   "source": [
    "fatf.setup_random_seed(42)"
   ]
  },
  {
   "cell_type": "markdown",
   "metadata": {
    "colab_type": "text",
    "id": "SmjJFiJXuBul"
   },
   "source": [
    "## Data and Black Box ##\n",
    "\n",
    "Let's get the beloved *iris* data set."
   ]
  },
  {
   "cell_type": "code",
   "execution_count": 6,
   "metadata": {
    "colab": {},
    "colab_type": "code",
    "executionInfo": {
     "elapsed": 675,
     "status": "ok",
     "timestamp": 1598545252124,
     "user": {
      "displayName": "Kacper Sokol",
      "photoUrl": "",
      "userId": "08424478775456813676"
     },
     "user_tz": -60
    },
    "id": "9iLjc1VPttZI"
   },
   "outputs": [],
   "source": [
    "import fatf.utils.data.datasets as fatf_datasets\n",
    "\n",
    "iris_data_dict = fatf_datasets.load_iris()\n",
    "iris_data = iris_data_dict['data']\n",
    "iris_target = iris_data_dict['target']\n",
    "iris_feature_names = iris_data_dict['feature_names'].tolist()\n",
    "iris_target_names = iris_data_dict['target_names'].tolist()"
   ]
  },
  {
   "cell_type": "markdown",
   "metadata": {
    "colab_type": "text",
    "id": "dDbOmPzVuPpA"
   },
   "source": [
    "Let's get our black box -- a k-nearest neighbours classifier."
   ]
  },
  {
   "cell_type": "code",
   "execution_count": 7,
   "metadata": {
    "colab": {
     "base_uri": "https://localhost:8080/",
     "height": 55
    },
    "colab_type": "code",
    "executionInfo": {
     "elapsed": 770,
     "status": "ok",
     "timestamp": 1598546982291,
     "user": {
      "displayName": "Kacper Sokol",
      "photoUrl": "",
      "userId": "08424478775456813676"
     },
     "user_tz": -60
    },
    "id": "BSCOoKS4uMw5",
    "outputId": "91133b34-9535-48c4-a6b7-630fa66f0cd1"
   },
   "outputs": [
    {
     "name": "stderr",
     "output_type": "stream",
     "text": [
      "22-Sep-08 12:45:10 fatf.utils.array.tools INFO     Using numpy's numpy.lib.recfunctions.structured_to_unstructured as fatf.utils.array.tools.structured_to_unstructured and fatf.utils.array.tools.structured_to_unstructured_row.\n"
     ]
    }
   ],
   "source": [
    "import fatf.utils.models.models as fatf_models\n",
    "\n",
    "blackbox_model = fatf_models.KNN(k=3)\n",
    "blackbox_model.fit(iris_data, iris_target)"
   ]
  },
  {
   "cell_type": "markdown",
   "metadata": {
    "colab_type": "text",
    "id": "VUMT6P7K045-"
   },
   "source": [
    "And check its accuracy."
   ]
  },
  {
   "cell_type": "code",
   "execution_count": 8,
   "metadata": {
    "colab": {
     "base_uri": "https://localhost:8080/",
     "height": 35
    },
    "colab_type": "code",
    "executionInfo": {
     "elapsed": 945,
     "status": "ok",
     "timestamp": 1598547024435,
     "user": {
      "displayName": "Kacper Sokol",
      "photoUrl": "",
      "userId": "08424478775456813676"
     },
     "user_tz": -60
    },
    "id": "Z5lTY2Il0zJA",
    "outputId": "532f79e5-4517-46bd-bef6-5753c109d303"
   },
   "outputs": [
    {
     "data": {
      "text/plain": [
       "0.96"
      ]
     },
     "execution_count": 8,
     "metadata": {},
     "output_type": "execute_result"
    }
   ],
   "source": [
    "import sklearn.metrics\n",
    "\n",
    "predictions = blackbox_model.predict(iris_data)\n",
    "sklearn.metrics.accuracy_score(iris_target, predictions)"
   ]
  },
  {
   "cell_type": "markdown",
   "metadata": {
    "colab_type": "text",
    "id": "CJ3qA64_1FVT"
   },
   "source": [
    "Now, let's choose a data point to be explained."
   ]
  },
  {
   "cell_type": "code",
   "execution_count": 9,
   "metadata": {
    "colab": {
     "base_uri": "https://localhost:8080/",
     "height": 209
    },
    "colab_type": "code",
    "executionInfo": {
     "elapsed": 808,
     "status": "ok",
     "timestamp": 1598547211214,
     "user": {
      "displayName": "Kacper Sokol",
      "photoUrl": "",
      "userId": "08424478775456813676"
     },
     "user_tz": -60
    },
    "id": "PgUJ5G9s09YV",
    "outputId": "780a2381-0498-4c06-e043-78f709f1a2af"
   },
   "outputs": [
    {
     "name": "stdout",
     "output_type": "stream",
     "text": [
      "Data point:\n"
     ]
    },
    {
     "data": {
      "text/plain": [
       "array([5.1, 3.5, 1.4, 0.2], dtype=float32)"
      ]
     },
     "metadata": {},
     "output_type": "display_data"
    },
    {
     "name": "stdout",
     "output_type": "stream",
     "text": [
      "\n",
      "Class probabilities:\n"
     ]
    },
    {
     "data": {
      "text/plain": [
       "array([1., 0., 0.])"
      ]
     },
     "metadata": {},
     "output_type": "display_data"
    },
    {
     "name": "stdout",
     "output_type": "stream",
     "text": [
      "\n",
      "Class prediction:\n"
     ]
    },
    {
     "data": {
      "text/plain": [
       "0"
      ]
     },
     "metadata": {},
     "output_type": "display_data"
    },
    {
     "name": "stdout",
     "output_type": "stream",
     "text": [
      "\n",
      "Predicted class name:\n"
     ]
    },
    {
     "data": {
      "text/plain": [
       "'setosa'"
      ]
     },
     "metadata": {},
     "output_type": "display_data"
    }
   ],
   "source": [
    "data_point = iris_data[0]\n",
    "print('Data point:')\n",
    "display(data_point)\n",
    "\n",
    "data_point_probabilities = blackbox_model.predict_proba(\n",
    "    data_point.reshape(1, -1))[0]\n",
    "print('\\nClass probabilities:')\n",
    "display(data_point_probabilities)\n",
    "\n",
    "data_point_prediction = data_point_probabilities.argmax(axis=0)\n",
    "print('\\nClass prediction:')\n",
    "display(data_point_prediction)\n",
    "\n",
    "data_point_class = iris_target_names[data_point_prediction]\n",
    "print('\\nPredicted class name:')\n",
    "display(data_point_class)"
   ]
  },
  {
   "cell_type": "markdown",
   "metadata": {
    "colab_type": "text",
    "id": "EWEimWkB1yb3"
   },
   "source": [
    "Let's visualise the selected instance using two of the features."
   ]
  },
  {
   "cell_type": "code",
   "execution_count": 10,
   "metadata": {
    "colab": {
     "base_uri": "https://localhost:8080/",
     "height": 334
    },
    "colab_type": "code",
    "executionInfo": {
     "elapsed": 1231,
     "status": "ok",
     "timestamp": 1598549261914,
     "user": {
      "displayName": "Kacper Sokol",
      "photoUrl": "",
      "userId": "08424478775456813676"
     },
     "user_tz": -60
    },
    "id": "B_LcYgub1S4k",
    "outputId": "a8ff9cbd-7eff-4382-fdfe-c9943e4f636a"
   },
   "outputs": [
    {
     "name": "stdout",
     "output_type": "stream",
     "text": [
      "Selected features:\n"
     ]
    },
    {
     "data": {
      "text/plain": [
       "['petal length (cm)', 'petal width (cm)']"
      ]
     },
     "metadata": {},
     "output_type": "display_data"
    },
    {
     "data": {
      "text/plain": [
       "<matplotlib.legend.Legend at 0x7f2f7f6925d0>"
      ]
     },
     "execution_count": 10,
     "metadata": {},
     "output_type": "execute_result"
    },
    {
     "data": {
      "image/png": "[encoded data removed]",
      "text/plain": [
       "<Figure size 640x480 with 1 Axes>"
      ]
     },
     "metadata": {},
     "output_type": "display_data"
    }
   ],
   "source": [
    "import matplotlib.pyplot as plt\n",
    "\n",
    "print('Selected features:')\n",
    "display(iris_feature_names[2:])\n",
    "\n",
    "data_figure = plt.figure()\n",
    "plt.scatter(iris_data[1:50, 2], iris_data[1:50, 3],\n",
    "            label=iris_target_names[0])\n",
    "plt.scatter(iris_data[50:100, 2], iris_data[50:100, 3],\n",
    "            label=iris_target_names[1])\n",
    "plt.scatter(iris_data[100:150, 2], iris_data[100:150, 3],\n",
    "            label=iris_target_names[2])\n",
    "plt.scatter(data_point[2], data_point[3],\n",
    "            label='Explained Data Point', s=200, c='k')\n",
    "\n",
    "plt.xlabel(iris_feature_names[2])\n",
    "plt.ylabel(iris_feature_names[3])\n",
    "plt.legend()"
   ]
  },
  {
   "cell_type": "markdown",
   "metadata": {
    "colab_type": "text",
    "id": "fAJmGtoo2cvF"
   },
   "source": [
    "## Data Augmentation ##\n",
    "\n",
    "Next, let's sample some data in the neighbourhood of the explained instance."
   ]
  },
  {
   "cell_type": "code",
   "execution_count": 11,
   "metadata": {
    "colab": {},
    "colab_type": "code",
    "executionInfo": {
     "elapsed": 870,
     "status": "ok",
     "timestamp": 1598547472948,
     "user": {
      "displayName": "Kacper Sokol",
      "photoUrl": "",
      "userId": "08424478775456813676"
     },
     "user_tz": -60
    },
    "id": "28aePjwZ2MCw"
   },
   "outputs": [],
   "source": [
    "import fatf.utils.data.augmentation as fatf_augmentation\n",
    "\n",
    "augmenter = fatf_augmentation.Mixup(iris_data, ground_truth=iris_target)"
   ]
  },
  {
   "cell_type": "code",
   "execution_count": 12,
   "metadata": {
    "colab": {},
    "colab_type": "code",
    "executionInfo": {
     "elapsed": 994,
     "status": "ok",
     "timestamp": 1598547648973,
     "user": {
      "displayName": "Kacper Sokol",
      "photoUrl": "",
      "userId": "08424478775456813676"
     },
     "user_tz": -60
    },
    "id": "BQoTIpZL3TKV"
   },
   "outputs": [],
   "source": [
    "sampled_data = augmenter.sample(data_point, samples_number=50)\n",
    "sampled_data_probabilities = blackbox_model.predict_proba(sampled_data)\n",
    "\n",
    "sampled_data_predictions = sampled_data_probabilities.argmax(axis=1)"
   ]
  },
  {
   "cell_type": "code",
   "execution_count": 13,
   "metadata": {
    "colab": {
     "base_uri": "https://localhost:8080/",
     "height": 299
    },
    "colab_type": "code",
    "executionInfo": {
     "elapsed": 907,
     "status": "ok",
     "timestamp": 1598547650890,
     "user": {
      "displayName": "Kacper Sokol",
      "photoUrl": "",
      "userId": "08424478775456813676"
     },
     "user_tz": -60
    },
    "id": "lQHO2Hs62q53",
    "outputId": "78c6eb4e-ab7d-4d09-af5c-f7419bccbc9d"
   },
   "outputs": [
    {
     "data": {
      "text/plain": [
       "<matplotlib.legend.Legend at 0x7f2f7d5fb090>"
      ]
     },
     "execution_count": 13,
     "metadata": {},
     "output_type": "execute_result"
    },
    {
     "data": {
      "image/png": "[encoded data removed]",
      "text/plain": [
       "<Figure size 640x480 with 1 Axes>"
      ]
     },
     "metadata": {},
     "output_type": "display_data"
    }
   ],
   "source": [
    "sampled_data_0_indices = np.where(sampled_data_predictions == 0)[0]\n",
    "sampled_data_1_indices = np.where(sampled_data_predictions == 1)[0]\n",
    "sampled_data_2_indices = np.where(sampled_data_predictions == 2)[0]\n",
    "\n",
    "plt.figure()\n",
    "plt.scatter(iris_data[1:50, 2], iris_data[1:50, 3],\n",
    "            label=iris_target_names[0])\n",
    "plt.scatter(iris_data[50:100, 2], iris_data[50:100, 3],\n",
    "            label=iris_target_names[1])\n",
    "plt.scatter(iris_data[100:150, 2], iris_data[100:150, 3],\n",
    "            label=iris_target_names[2])\n",
    "plt.scatter(data_point[2], data_point[3],\n",
    "            label='Explained Data Point: {}'.format(data_point_class),\n",
    "            s=200, c='k')\n",
    "\n",
    "plt.scatter(sampled_data[sampled_data_0_indices, 2],\n",
    "            sampled_data[sampled_data_0_indices, 3],\n",
    "            label='Augmented Data: {}'.format(iris_target_names[0]))\n",
    "plt.scatter(sampled_data[sampled_data_1_indices, 2],\n",
    "            sampled_data[sampled_data_1_indices, 3],\n",
    "            label='Augmented Data: {}'.format(iris_target_names[1]))\n",
    "plt.scatter(sampled_data[sampled_data_2_indices, 2],\n",
    "            sampled_data[sampled_data_2_indices, 3],\n",
    "            label='Augmented Data: {}'.format(iris_target_names[2]))\n",
    "\n",
    "plt.xlabel(iris_feature_names[2])\n",
    "plt.ylabel(iris_feature_names[3])\n",
    "plt.legend()"
   ]
  },
  {
   "cell_type": "markdown",
   "metadata": {
    "colab_type": "text",
    "id": "O4l8YQuW3eHN"
   },
   "source": [
    "## Interpretable Representation ##\n",
    "\n",
    "Now, let's generate an interpretable representation."
   ]
  },
  {
   "cell_type": "code",
   "execution_count": 14,
   "metadata": {
    "colab": {},
    "colab_type": "code",
    "executionInfo": {
     "elapsed": 735,
     "status": "ok",
     "timestamp": 1598547841311,
     "user": {
      "displayName": "Kacper Sokol",
      "photoUrl": "",
      "userId": "08424478775456813676"
     },
     "user_tz": -60
    },
    "id": "OfaxV87w2tfz"
   },
   "outputs": [],
   "source": [
    "import fatf.utils.data.discretisation as fatf_discretisation\n",
    "\n",
    "discretiser = fatf_discretisation.QuartileDiscretiser(\n",
    "    iris_data, feature_names=iris_feature_names)"
   ]
  },
  {
   "cell_type": "code",
   "execution_count": 15,
   "metadata": {
    "colab": {},
    "colab_type": "code",
    "executionInfo": {
     "elapsed": 829,
     "status": "ok",
     "timestamp": 1598547849881,
     "user": {
      "displayName": "Kacper Sokol",
      "photoUrl": "",
      "userId": "08424478775456813676"
     },
     "user_tz": -60
    },
    "id": "2wJ-nH7Q3dQY"
   },
   "outputs": [],
   "source": [
    "data_point_discretised = discretiser.discretise(data_point)\n",
    "sampled_data_discretised = discretiser.discretise(sampled_data)"
   ]
  },
  {
   "cell_type": "code",
   "execution_count": 16,
   "metadata": {
    "colab": {},
    "colab_type": "code",
    "executionInfo": {
     "elapsed": 606,
     "status": "ok",
     "timestamp": 1598548447337,
     "user": {
      "displayName": "Kacper Sokol",
      "photoUrl": "",
      "userId": "08424478775456813676"
     },
     "user_tz": -60
    },
    "id": "PabPlF572tRL"
   },
   "outputs": [],
   "source": [
    "import fatf.utils.data.transformation as fatf_transformation\n",
    "\n",
    "sampled_data_binarised = fatf_transformation.dataset_row_masking(\n",
    "    sampled_data_discretised, data_point_discretised)\n",
    "\n",
    "data_point_binarised = fatf_transformation.dataset_row_masking(\n",
    "    data_point_discretised.reshape(1, -1), data_point_discretised)"
   ]
  },
  {
   "cell_type": "code",
   "execution_count": 17,
   "metadata": {
    "colab": {
     "base_uri": "https://localhost:8080/",
     "height": 243
    },
    "colab_type": "code",
    "executionInfo": {
     "elapsed": 931,
     "status": "ok",
     "timestamp": 1598548449479,
     "user": {
      "displayName": "Kacper Sokol",
      "photoUrl": "",
      "userId": "08424478775456813676"
     },
     "user_tz": -60
    },
    "id": "wurxTrtn2tWy",
    "outputId": "52cf4780-b5b2-4633-8a6a-d5ae78d21591"
   },
   "outputs": [
    {
     "name": "stdout",
     "output_type": "stream",
     "text": [
      "The explained instance in the discrete representation:\n"
     ]
    },
    {
     "data": {
      "text/plain": [
       "array([0, 3, 0, 0], dtype=int8)"
      ]
     },
     "metadata": {},
     "output_type": "display_data"
    },
    {
     "name": "stdout",
     "output_type": "stream",
     "text": [
      "\n",
      "The explained instance in the binary interpretable representation:\n"
     ]
    },
    {
     "data": {
      "text/plain": [
       "array([[1, 1, 1, 1]], dtype=int8)"
      ]
     },
     "metadata": {},
     "output_type": "display_data"
    },
    {
     "name": "stdout",
     "output_type": "stream",
     "text": [
      "\n",
      "~+~+~+~+~+~+~+~+~+~+~+~+~+~+~+~+~+~+~+~+~+~+~+~+~+~+~+~+~+~+~+~+~+~+~+~+~+~+~+~+\n",
      "\n",
      "A sampled data point in the discrete representation:\n"
     ]
    },
    {
     "data": {
      "text/plain": [
       "array([1, 3, 0, 0], dtype=int8)"
      ]
     },
     "metadata": {},
     "output_type": "display_data"
    },
    {
     "name": "stdout",
     "output_type": "stream",
     "text": [
      "\n",
      "The same sampled data point in the binary interpretable representation:\n"
     ]
    },
    {
     "data": {
      "text/plain": [
       "array([0, 1, 1, 1], dtype=int8)"
      ]
     },
     "metadata": {},
     "output_type": "display_data"
    }
   ],
   "source": [
    "print('The explained instance in the discrete representation:')\n",
    "display(data_point_discretised)\n",
    "\n",
    "print('\\nThe explained instance in the binary interpretable representation:')\n",
    "display(data_point_binarised)\n",
    "\n",
    "print('\\n{}\\n'.format(40*'~+'))\n",
    "\n",
    "print('A sampled data point in the discrete representation:')\n",
    "display(sampled_data_discretised[0, :])\n",
    "\n",
    "print('\\nThe same sampled data point in the '\n",
    "      'binary interpretable representation:')\n",
    "display(sampled_data_binarised[0, :])"
   ]
  },
  {
   "cell_type": "markdown",
   "metadata": {
    "colab_type": "text",
    "id": "UPlLw1_05Te3"
   },
   "source": [
    "## Explanation Generation ##\n",
    "\n",
    "Finally, we fit a local surrogate model and generate the explanation."
   ]
  },
  {
   "cell_type": "markdown",
   "metadata": {
    "colab_type": "text",
    "id": "9lqq4W0f5lWY"
   },
   "source": [
    "We start by weighting the data to enforce locality of the explanation\n",
    "even more."
   ]
  },
  {
   "cell_type": "code",
   "execution_count": 18,
   "metadata": {
    "colab": {},
    "colab_type": "code",
    "executionInfo": {
     "elapsed": 651,
     "status": "ok",
     "timestamp": 1598548293032,
     "user": {
      "displayName": "Kacper Sokol",
      "photoUrl": "",
      "userId": "08424478775456813676"
     },
     "user_tz": -60
    },
    "id": "UHQfAdQu2tju"
   },
   "outputs": [],
   "source": [
    "import fatf.utils.distances as fatf_distances\n",
    "import fatf.utils.kernels as fatf_kernels\n",
    "\n",
    "features_number = sampled_data_binarised.shape[1]\n",
    "kernel_width = np.sqrt(features_number) * 0.75\n",
    "\n",
    "distances = fatf_distances.euclidean_point_distance(\n",
    "    np.ones(features_number), sampled_data_binarised)\n",
    "weights = fatf_kernels.exponential_kernel(\n",
    "    distances, width=kernel_width)"
   ]
  },
  {
   "cell_type": "markdown",
   "metadata": {
    "colab_type": "text",
    "id": "-BpH__zo6keY"
   },
   "source": [
    "We will explain the class predicted by the black box for the\n",
    "selected instance."
   ]
  },
  {
   "cell_type": "code",
   "execution_count": 19,
   "metadata": {
    "colab": {
     "base_uri": "https://localhost:8080/",
     "height": 35
    },
    "colab_type": "code",
    "executionInfo": {
     "elapsed": 807,
     "status": "ok",
     "timestamp": 1598548890677,
     "user": {
      "displayName": "Kacper Sokol",
      "photoUrl": "",
      "userId": "08424478775456813676"
     },
     "user_tz": -60
    },
    "id": "g9IAKdNU2tnZ",
    "outputId": "80b014dc-b53b-4b7b-839a-2db0b1db246d"
   },
   "outputs": [
    {
     "name": "stdout",
     "output_type": "stream",
     "text": [
      "0: setosa\n"
     ]
    }
   ],
   "source": [
    "explained_class_name = 'setosa'\n",
    "\n",
    "explained_class_index = iris_target_names.index(explained_class_name)\n",
    "\n",
    "print('{}: {}'.format(explained_class_index, explained_class_name))"
   ]
  },
  {
   "cell_type": "code",
   "execution_count": 20,
   "metadata": {
    "colab": {},
    "colab_type": "code",
    "executionInfo": {
     "elapsed": 808,
     "status": "ok",
     "timestamp": 1598548894670,
     "user": {
      "displayName": "Kacper Sokol",
      "photoUrl": "",
      "userId": "08424478775456813676"
     },
     "user_tz": -60
    },
    "id": "dIESmepi2thx"
   },
   "outputs": [],
   "source": [
    "sampled_data_predictions_setosa = (\n",
    "    sampled_data_probabilities[:, explained_class_index])"
   ]
  },
  {
   "cell_type": "markdown",
   "metadata": {
    "colab_type": "text",
    "id": "1cHrSdKm8JBS"
   },
   "source": [
    "Let's introduce some sparsity to the explanation and select just *two* of\n",
    "the **interpretable** features."
   ]
  },
  {
   "cell_type": "code",
   "execution_count": 21,
   "metadata": {
    "colab": {},
    "colab_type": "code",
    "executionInfo": {
     "elapsed": 798,
     "status": "ok",
     "timestamp": 1598549196298,
     "user": {
      "displayName": "Kacper Sokol",
      "photoUrl": "",
      "userId": "08424478775456813676"
     },
     "user_tz": -60
    },
    "id": "ZKV7S3S72tc2"
   },
   "outputs": [],
   "source": [
    "import fatf.utils.data.feature_selection.sklearn as fatf_feature_ssk\n",
    "\n",
    "lasso_indices = fatf_feature_ssk.lasso_path(\n",
    "    sampled_data_binarised, sampled_data_predictions_setosa, weights, 2)\n",
    "\n",
    "sampled_data_binarised_2f = sampled_data_binarised[:, lasso_indices]"
   ]
  },
  {
   "cell_type": "code",
   "execution_count": 22,
   "metadata": {
    "colab": {
     "base_uri": "https://localhost:8080/",
     "height": 35
    },
    "colab_type": "code",
    "executionInfo": {
     "elapsed": 982,
     "status": "ok",
     "timestamp": 1598549197769,
     "user": {
      "displayName": "Kacper Sokol",
      "photoUrl": "",
      "userId": "08424478775456813676"
     },
     "user_tz": -60
    },
    "id": "BTKWRB4t7QE4",
    "outputId": "de838de8-a379-49d7-a482-90621628e503"
   },
   "outputs": [
    {
     "data": {
      "text/plain": [
       "['*petal length (cm)* <= 1.60', '*petal width (cm)* <= 0.30']"
      ]
     },
     "execution_count": 22,
     "metadata": {},
     "output_type": "execute_result"
    }
   ],
   "source": [
    "interpretable_feature_names = []\n",
    "for feature_index in lasso_indices:\n",
    "    bin_id = data_point_discretised[feature_index].astype(int)\n",
    "    interpretable_feature_name = (\n",
    "        discretiser.feature_value_names[feature_index][bin_id])\n",
    "    interpretable_feature_names.append(interpretable_feature_name)\n",
    "\n",
    "interpretable_feature_names"
   ]
  },
  {
   "cell_type": "markdown",
   "metadata": {
    "colab_type": "text",
    "id": "xUjM-s717Ju_"
   },
   "source": [
    "Last but not least, we will fit a local surrogate *linear* model and generate the explanation."
   ]
  },
  {
   "cell_type": "code",
   "execution_count": 23,
   "metadata": {
    "colab": {},
    "colab_type": "code",
    "executionInfo": {
     "elapsed": 786,
     "status": "ok",
     "timestamp": 1598549200567,
     "user": {
      "displayName": "Kacper Sokol",
      "photoUrl": "",
      "userId": "08424478775456813676"
     },
     "user_tz": -60
    },
    "id": "WHsmi_fh2tbX"
   },
   "outputs": [],
   "source": [
    "import sklearn.linear_model\n",
    "\n",
    "lime = sklearn.linear_model.Ridge()"
   ]
  },
  {
   "cell_type": "code",
   "execution_count": 24,
   "metadata": {
    "colab": {
     "base_uri": "https://localhost:8080/",
     "height": 52
    },
    "colab_type": "code",
    "executionInfo": {
     "elapsed": 980,
     "status": "ok",
     "timestamp": 1598549202084,
     "user": {
      "displayName": "Kacper Sokol",
      "photoUrl": "",
      "userId": "08424478775456813676"
     },
     "user_tz": -60
    },
    "id": "PMnzOqgz2tUi",
    "outputId": "199a1fd6-b8d2-4032-85b9-481f4bb6b971"
   },
   "outputs": [
    {
     "data": {
      "text/plain": [
       "Ridge()"
      ]
     },
     "execution_count": 24,
     "metadata": {},
     "output_type": "execute_result"
    }
   ],
   "source": [
    "lime.fit(\n",
    "    sampled_data_binarised_2f,\n",
    "    sampled_data_predictions_setosa,\n",
    "    sample_weight=weights)"
   ]
  },
  {
   "cell_type": "code",
   "execution_count": 25,
   "metadata": {
    "colab": {
     "base_uri": "https://localhost:8080/",
     "height": 369
    },
    "colab_type": "code",
    "executionInfo": {
     "elapsed": 649,
     "status": "ok",
     "timestamp": 1598549470707,
     "user": {
      "displayName": "Kacper Sokol",
      "photoUrl": "",
      "userId": "08424478775456813676"
     },
     "user_tz": -60
    },
    "id": "NM9Alpt_9kNi",
    "outputId": "df7db966-e4a4-47aa-e72e-3638654c698b"
   },
   "outputs": [
    {
     "name": "stdout",
     "output_type": "stream",
     "text": [
      "*setosa* class (0) explanation (importance given in brackets):\n",
      "    ->*petal length (cm)* <= 1.60<-: 0.4297609038698998\n",
      "    ->*petal width (cm)* <= 0.30<-: 0.3790186358670607\n",
      "\n",
      "(Data visualisation re-plotted for convenience.)\n"
     ]
    },
    {
     "data": {
      "image/png": "[encoded data removed]",
      "text/plain": [
       "<Figure size 640x480 with 1 Axes>"
      ]
     },
     "execution_count": 25,
     "metadata": {},
     "output_type": "execute_result"
    }
   ],
   "source": [
    "print('*{}* class ({}) explanation (importance given in brackets):'.format(\n",
    "    explained_class_name, explained_class_index))\n",
    "for name, importance in zip(interpretable_feature_names, lime.coef_):\n",
    "    print('    ->{}<-: {}'.format(name, importance))\n",
    "\n",
    "print('\\n(Data visualisation re-plotted for convenience.)')\n",
    "data_figure"
   ]
  },
  {
   "cell_type": "markdown",
   "metadata": {
    "colab_type": "text",
    "id": "FLaW-XEq-XQS"
   },
   "source": [
    "## That's It ##\n",
    "\n",
    "Your environment works and you are ready for Part 3 of the tutorial.\n",
    "\n",
    "> You can experiment with this notebook during the break.\n",
    "  Consult the\n",
    "  \"[how to build LIME yourself](https://fat-forensics.org/how_to/transparency/tabular-surrogates.html)\"\n",
    "  *How-To Guide* distributed with the FAT Forensics\n",
    "  [documentation](https://fat-forensics.org/) for more details."
   ]
  },
  {
   "cell_type": "code",
   "execution_count": null,
   "metadata": {
    "colab": {},
    "colab_type": "code",
    "id": "UP9nZWUA9mXn"
   },
   "outputs": [],
   "source": []
  }
 ],
 "metadata": {
  "colab": {
   "authorship_tag": "ABX9TyPYY/D6lJqw+cq5R/FPXHOm",
   "collapsed_sections": [],
   "name": "0-setup_test.ipynb",
   "provenance": []
  },
  "kernelspec": {
   "display_name": "Python 3",
   "language": "python",
   "name": "python3"
  },
  "language_info": {
   "codemirror_mode": {
    "name": "ipython",
    "version": 3
   },
   "file_extension": ".py",
   "mimetype": "text/x-python",
   "name": "python",
   "nbconvert_exporter": "python",
   "pygments_lexer": "ipython3",
   "version": "3.7.13"
  }
 },
 "nbformat": 4,
 "nbformat_minor": 4
}
